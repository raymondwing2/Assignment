{
 "cells": [
  {
   "cell_type": "code",
   "execution_count": 32,
   "metadata": {},
   "outputs": [],
   "source": [
    "def check_str(input_str):\n",
    "    if input_str.isspace() == True or len(input_str) == 0:\n",
    "        return True    \n",
    "    \n",
    "    if input_str.find(' ') != -1:\n",
    "        return True\n",
    "    else:\n",
    "        return False\n",
    "    \n",
    "        \n"
   ]
  },
  {
   "cell_type": "code",
   "execution_count": 33,
   "metadata": {},
   "outputs": [],
   "source": [
    "def longest(input_str):\n",
    "\n",
    "    maximum = count = 0\n",
    "    current = ''\n",
    "    long_char =''\n",
    "    \n",
    "    for c in input_str:\n",
    "        if c == current:\n",
    "            count += 1\n",
    "            long_char = c\n",
    "        else:\n",
    "            count = 1\n",
    "            current = c\n",
    "        maximum = max(count,maximum)\n",
    "                \n",
    "    return maximum, long_char\n",
    "    \n",
    "    "
   ]
  },
  {
   "cell_type": "code",
   "execution_count": null,
   "metadata": {},
   "outputs": [],
   "source": [
    "#MAIN\n",
    "\n",
    "while True:\n",
    "    input_str = input(\"Input: \")\n",
    "    if check_str(input_str) == True:\n",
    "        continue\n",
    "    else:\n",
    "        break\n",
    "\n",
    "num, long_char = longest(input_str)\n",
    "print(\"Output: {}, '{}' is the longest string!\".format(num,long_char))\n",
    "print(\"End\")\n",
    "    \n",
    "    \n"
   ]
  },
  {
   "cell_type": "code",
   "execution_count": null,
   "metadata": {},
   "outputs": [],
   "source": []
  }
 ],
 "metadata": {
  "kernelspec": {
   "display_name": "Python 3",
   "language": "python",
   "name": "python3"
  },
  "language_info": {
   "codemirror_mode": {
    "name": "ipython",
    "version": 3
   },
   "file_extension": ".py",
   "mimetype": "text/x-python",
   "name": "python",
   "nbconvert_exporter": "python",
   "pygments_lexer": "ipython3",
   "version": "3.8.3"
  }
 },
 "nbformat": 4,
 "nbformat_minor": 4
}
