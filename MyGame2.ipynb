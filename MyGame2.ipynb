{
 "cells": [
  {
   "cell_type": "code",
   "execution_count": 45,
   "metadata": {},
   "outputs": [],
   "source": [
    "def get_user_input(game_board,BOARD_SIZE):\n",
    "    while True:\n",
    "        vloc_str = input(\"Please enter vertical position 0-{}: \".format(BOARD_SIZE-1))\n",
    "        hloc_str = input(\"Please enter horizontal position 0-{}: \".format(BOARD_SIZE-1))\n",
    "        \n",
    "        if vloc_str.isdigit() and hloc_str.isdigit():\n",
    "            vloc = int(vloc_str)\n",
    "            hloc = int(hloc_str)\n",
    "\n",
    "            if vloc < 0 or vloc > BOARD_SIZE-1:\n",
    "                print(\"Invalid position, your input is out of range\")\n",
    "                continue\n",
    "            if hloc < 0 or hloc > BOARD_SIZE-1:\n",
    "                print(\"Invalid position, your input is out of range\")\n",
    "                continue\n",
    "        else:\n",
    "            continue\n",
    "        \n",
    "        if game_board[vloc,hloc] == 0:\n",
    "            return vloc,hloc\n",
    "        else:\n",
    "            print(\"Position is filled..............Try again\")\n",
    "            continue\n",
    "        "
   ]
  },
  {
   "cell_type": "code",
   "execution_count": 50,
   "metadata": {},
   "outputs": [],
   "source": [
    "def check_ans(game_board, BOARD_SIZE, uid, vloc, hloc):\n",
    "    h_is_pass = True\n",
    "    for x in range(BOARD_SIZE):\n",
    "        if game_board[vloc,x] != uid:\n",
    "            h_is_pass = False\n",
    "            break\n",
    "            \n",
    "    v_is_pass = True\n",
    "    for y in range(BOARD_SIZE):\n",
    "        if game_board[y,hloc] != uid:\n",
    "            v_is_pass = False\n",
    "            break\n",
    "     \n",
    "    d1_is_pass = True\n",
    "    for z1 in range(BOARD_SIZE):\n",
    "        if game_board[z1,z1] != uid:\n",
    "            d1_is_pass = False\n",
    "            break\n",
    "            \n",
    "    d2_is_pass = True        \n",
    "    for z2 in range(BOARD_SIZE):\n",
    "        if game_board[z2,BOARD_SIZE-z2-1] != uid:\n",
    "            d2_is_pass = False\n",
    "            break\n",
    "            \n",
    "    if h_is_pass:\n",
    "        print(\"Horizontal WINS\")\n",
    "        \n",
    "    if v_is_pass:\n",
    "        print(\"Vertical WINS\")\n",
    "        \n",
    "    if d1_is_pass or d2_is_pass:\n",
    "        print(\"Diagonal WINS\")\n",
    "        \n",
    "    if h_is_pass or v_is_pass or d1_is_pass or d2_is_pass:\n",
    "        return True\n",
    "    else:\n",
    "        return False\n",
    "        \n"
   ]
  },
  {
   "cell_type": "code",
   "execution_count": 55,
   "metadata": {},
   "outputs": [
    {
     "name": "stdout",
     "output_type": "stream",
     "text": [
      "User 1 ------- User 1\n",
      "[[0. 0. 0.]\n",
      " [0. 0. 0.]\n",
      " [0. 0. 0.]]\n"
     ]
    },
    {
     "name": "stdin",
     "output_type": "stream",
     "text": [
      "Please enter vertical position 0-2:  0\n",
      "Please enter horizontal position 0-2:  0\n"
     ]
    },
    {
     "name": "stdout",
     "output_type": "stream",
     "text": [
      "DRAW game!\n",
      "User 2 ------- User 2\n",
      "[[1. 0. 0.]\n",
      " [0. 0. 0.]\n",
      " [0. 0. 0.]]\n"
     ]
    },
    {
     "name": "stdin",
     "output_type": "stream",
     "text": [
      "Please enter vertical position 0-2:  1\n",
      "Please enter horizontal position 0-2:  0\n"
     ]
    },
    {
     "name": "stdout",
     "output_type": "stream",
     "text": [
      "DRAW game!\n",
      "User 1 ------- User 1\n",
      "[[1. 0. 0.]\n",
      " [2. 0. 0.]\n",
      " [0. 0. 0.]]\n"
     ]
    },
    {
     "name": "stdin",
     "output_type": "stream",
     "text": [
      "Please enter vertical position 0-2:  0\n",
      "Please enter horizontal position 0-2:  1\n"
     ]
    },
    {
     "name": "stdout",
     "output_type": "stream",
     "text": [
      "DRAW game!\n",
      "User 2 ------- User 2\n",
      "[[1. 1. 0.]\n",
      " [2. 0. 0.]\n",
      " [0. 0. 0.]]\n"
     ]
    },
    {
     "name": "stdin",
     "output_type": "stream",
     "text": [
      "Please enter vertical position 0-2:  1\n",
      "Please enter horizontal position 0-2:  1\n"
     ]
    },
    {
     "name": "stdout",
     "output_type": "stream",
     "text": [
      "DRAW game!\n",
      "User 1 ------- User 1\n",
      "[[1. 1. 0.]\n",
      " [2. 2. 0.]\n",
      " [0. 0. 0.]]\n"
     ]
    },
    {
     "name": "stdin",
     "output_type": "stream",
     "text": [
      "Please enter vertical position 0-2:  0\n",
      "Please enter horizontal position 0-2:  2\n"
     ]
    },
    {
     "name": "stdout",
     "output_type": "stream",
     "text": [
      "Horizontal WINS\n",
      "By User 1 in this game\n",
      "***** End Game *****\n"
     ]
    }
   ],
   "source": [
    "# Set a new game\n",
    "#MAIN\n",
    "\n",
    "import numpy as np\n",
    "BOARD_SIZE = 3\n",
    "game_board = np.zeros((BOARD_SIZE,BOARD_SIZE))\n",
    "uid = 0\n",
    "\n",
    "for i in range (BOARD_SIZE*BOARD_SIZE):\n",
    "    if uid == 1:\n",
    "        uid = 2\n",
    "    else:\n",
    "        uid = 1\n",
    "        \n",
    "    print(\"User {} ------- User {}\".format(uid,uid))\n",
    "    print(game_board)\n",
    "    \n",
    "    vloc, hloc = get_user_input(game_board,BOARD_SIZE)\n",
    "    \n",
    "    game_board[vloc,hloc] = uid\n",
    "    \n",
    "    isWin = check_ans(game_board,BOARD_SIZE,uid, vloc, hloc)\n",
    "    \n",
    "    if isWin:\n",
    "        print(\"By User {} in this game\".format(uid))\n",
    "        break\n",
    "    else:\n",
    "        print(\"DRAW game!\")\n",
    "            \n",
    "print(\"***** End Game *****\")\n",
    "    \n"
   ]
  },
  {
   "cell_type": "code",
   "execution_count": null,
   "metadata": {},
   "outputs": [],
   "source": []
  }
 ],
 "metadata": {
  "kernelspec": {
   "display_name": "Python 3",
   "language": "python",
   "name": "python3"
  },
  "language_info": {
   "codemirror_mode": {
    "name": "ipython",
    "version": 3
   },
   "file_extension": ".py",
   "mimetype": "text/x-python",
   "name": "python",
   "nbconvert_exporter": "python",
   "pygments_lexer": "ipython3",
   "version": "3.8.3"
  }
 },
 "nbformat": 4,
 "nbformat_minor": 4
}