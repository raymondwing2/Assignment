{
 "cells": [
  {
   "cell_type": "code",
   "execution_count": 1,
   "metadata": {},
   "outputs": [
    {
     "output_type": "stream",
     "name": "stdout",
     "text": [
      "3 is the single occured element in the list!\n"
     ]
    }
   ],
   "source": [
    "#write a function which input list with following propeteries\n",
    "\n",
    "#all elements are positive integer\n",
    "#all elements exist twice except one e.g [1,4,6,7,5,4,6,1,7] -> 5 and output the single occured element\n",
    "\n",
    "def find_single(input_lst):\n",
    "    for i in input_lst:\n",
    "        if input_lst.count(i) == 1:\n",
    "            return i\n",
    "        \n",
    "def check_negative(input_lst):\n",
    "    for i in input_lst:\n",
    "        if i < 0:\n",
    "            return False\n",
    "        \n",
    "#Main\n",
    "from colorama import Fore, Back, Style\n",
    "while True:\n",
    "    test=input(\"Nums separated by comma: \")\n",
    "    test_list = test.split(',') \n",
    "    try:\n",
    "        numbers = [int(x.strip()) for x in test_list]\n",
    "        if check_negative(numbers) is False:\n",
    "            print(Fore.RED + Back.WHITE + \"Negative num is NOT allowed!\")\n",
    "            continue\n",
    "    except:\n",
    "        print('please try again, with only numbers separated by commas (e.g. \"1,4,6,7,5,4,6,1,7\")')\n",
    "        continue\n",
    "    else:\n",
    "        break\n",
    "      \n",
    "        \n",
    "print(\"{} is the single occured element in the list!\".format(find_single(numbers)))"
   ]
  },
  {
   "cell_type": "code",
   "execution_count": null,
   "metadata": {},
   "outputs": [],
   "source": []
  }
 ],
 "metadata": {
  "kernelspec": {
   "display_name": "Python 3",
   "language": "python",
   "name": "python3"
  },
  "language_info": {
   "codemirror_mode": {
    "name": "ipython",
    "version": 3
   },
   "file_extension": ".py",
   "mimetype": "text/x-python",
   "name": "python",
   "nbconvert_exporter": "python",
   "pygments_lexer": "ipython3",
   "version": "3.8.3-final"
  }
 },
 "nbformat": 4,
 "nbformat_minor": 4
}