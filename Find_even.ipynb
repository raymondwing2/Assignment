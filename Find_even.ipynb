{
 "cells": [
  {
   "cell_type": "code",
   "execution_count": 2,
   "metadata": {},
   "outputs": [
    {
     "name": "stdout",
     "output_type": "stream",
     "text": [
      "Orig List: [1, 6, 8, 4, 7, 9, 10, 15, 16, 18]\n",
      "New list : [6, 8, 4, 10, 16, 18]\n"
     ]
    }
   ],
   "source": [
    "l1 = [1,6,8,4,7,9,10,15,16,18]\n",
    "l2= []\n",
    "for i in l1:\n",
    "    if i%2 == 0:\n",
    "        l2.append(i)\n",
    "print(\"Orig List: {}\".format(l1))\n",
    "print(\"New list: {}\".format(l2))"
   ]
  },
  {
   "cell_type": "code",
   "execution_count": null,
   "metadata": {},
   "outputs": [],
   "source": []
  }
 ],
 "metadata": {
  "kernelspec": {
   "display_name": "Python 3",
   "language": "python",
   "name": "python3"
  },
  "language_info": {
   "codemirror_mode": {
    "name": "ipython",
    "version": 3
   },
   "file_extension": ".py",
   "mimetype": "text/x-python",
   "name": "python",
   "nbconvert_exporter": "python",
   "pygments_lexer": "ipython3",
   "version": "3.8.3"
  }
 },
 "nbformat": 4,
 "nbformat_minor": 4
}